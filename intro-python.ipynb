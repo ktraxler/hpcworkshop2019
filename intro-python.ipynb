{
  "nbformat": 4,
  "nbformat_minor": 0,
  "metadata": {
    "colab": {
      "name": "Untitled0.ipynb",
      "version": "0.3.2",
      "provenance": [],
      "include_colab_link": true
    },
    "kernelspec": {
      "name": "python3",
      "display_name": "Python 3"
    }
  },
  "cells": [
    {
      "cell_type": "markdown",
      "metadata": {
        "id": "view-in-github",
        "colab_type": "text"
      },
      "source": [
        "<a href=\"https://colab.research.google.com/github/ktraxler/hpcworkshop2019/blob/master/intro-python.ipynb\" target=\"_parent\"><img src=\"https://colab.research.google.com/assets/colab-badge.svg\" alt=\"Open In Colab\"/></a>"
      ]
    },
    {
      "cell_type": "markdown",
      "metadata": {
        "id": "knAdtOcRP7mS",
        "colab_type": "text"
      },
      "source": [
        "\n",
        " #  Python Programming\n",
        "##  Summer Workshop 2019\n",
        "## LSU HPC & LONI\n",
        "  "
      ]
    },
    {
      "cell_type": "markdown",
      "metadata": {
        "id": "CRXWAKt8QFBg",
        "colab_type": "text"
      },
      "source": [
        "<a id='overview'></a>\n",
        "# Topics Covered\n",
        "<font color=blue>\n",
        " * [What is Python](#intro)\n",
        " * [Python programming basics](#data-type)\n",
        " * [Control structures and functions](#control)\n",
        " * [Python modules](#module)\n",
        " * [Numpy](#numpy)\n",
        " * [Plotting](#plot)</font>\n",
        "<br>"
      ]
    },
    {
      "cell_type": "markdown",
      "metadata": {
        "id": "tv1AUX-RQJfk",
        "colab_type": "text"
      },
      "source": [
        "<a id='intro'></a>\n",
        "## What is Python?\n",
        "\n",
        " * A general-purpose programming language (1980) by Guido van Rossum\n",
        " * Intuitive and minimal coding\n",
        " * Objected-Oriented\n",
        " * Interpreted not compiled\n",
        " * Interactive\n",
        " * Dynamically typed, no type declarations, data type is tracked at runtime\n",
        " * Automatic memory management\n",
        " * Tabs and spacing indicates how code is to be interpreted\n",
        "  \n",
        "  <br>"
      ]
    },
    {
      "cell_type": "markdown",
      "metadata": {
        "id": "p1fyL8lBQRlS",
        "colab_type": "text"
      },
      "source": [
        "## What is IPython?\n",
        "\n",
        " IPython: an interactive command shell for Python (2001) by Fernando Perez\n",
        "* Enhanced Read-Eval-Print Loop (REPL) environment\n",
        "* Command tab-completion, color-highlighted error messages..\n",
        "* Basic Linux shell integration (cp, ls, rm…)\n",
        "* Great for plotting!\n",
        "* More information click _[ipython.org](http://ipython.org)_"
      ]
    },
    {
      "cell_type": "markdown",
      "metadata": {
        "id": "y4r_aeXWQWwT",
        "colab_type": "text"
      },
      "source": [
        "## Jupyter Notebook \n",
        "\n",
        "* Web interface to Python, introduced in 2015 \n",
        "* Rich text, improved graphical capabilities\n",
        "* Integrate many existing web libraries for data visualization\n",
        "* Allow to create and share documents that contain live code, equations, visualizations and explanatory text. \n",
        "* Interface with over 40 languages, such as R, Julia and Scala\n",
        "[back to top](#top)"
      ]
    },
    {
      "cell_type": "markdown",
      "metadata": {
        "id": "_RvpPOC1S41X",
        "colab_type": "text"
      },
      "source": [
        "## Variables \n",
        "\n",
        "* Variable type is dynamically determined from the value it is assigned, no data type is declared\n",
        "* Assign meaningful variable names\n",
        "* Some keywords are reserved such as ‘print’, ‘assert’,  ‘while’, ‘lambda’. \n",
        "* A variable is assigned using the ‘=’ operator \n",
        "* Reference of [keys words](https://docs.python.org/2.5/ref/keywords.html)\n",
        "  "
      ]
    },
    {
      "cell_type": "markdown",
      "metadata": {
        "id": "1UEoxNoXTJyZ",
        "colab_type": "text"
      },
      "source": [
        "## Operators \n",
        "\n",
        "* Arithmetic operators +, -, *, /, // (integer division for  floating point numbers), ’**’ power\n",
        "* Boolean operators and, or and not\n",
        "* Comparison operators >, <, >= (greater or equal), <=\n",
        "* (less or equal), == equality"
      ]
    },
    {
      "cell_type": "markdown",
      "metadata": {
        "id": "e1lO4g9nSuS_",
        "colab_type": "text"
      },
      "source": [
        "<a id='data-type'></a>\n",
        "## Built-in Data Types   \n",
        "<font color=blue>\n",
        "* [Number](#numbers)\n",
        "* [String](#string)\n",
        "* [List](#list)\n",
        "* [Tuple](#tuple)\n",
        "* [Dictionary](#dic)\n",
        "* [File](#file)    \n",
        " </font>\n",
        " [top](#top)"
      ]
    },
    {
      "cell_type": "code",
      "metadata": {
        "id": "bsh2n-e5P5DP",
        "colab_type": "code",
        "colab": {}
      },
      "source": [
        "x = 3\n",
        "type(x)"
      ],
      "execution_count": 0,
      "outputs": []
    },
    {
      "cell_type": "code",
      "metadata": {
        "id": "tOvDaSDDTePm",
        "colab_type": "code",
        "colab": {}
      },
      "source": [
        "y = 3.0\n",
        "type (y)"
      ],
      "execution_count": 0,
      "outputs": []
    },
    {
      "cell_type": "code",
      "metadata": {
        "id": "mwCbBcICTo1p",
        "colab_type": "code",
        "colab": {}
      },
      "source": [
        "z = \"hello\"\n",
        "type(z)"
      ],
      "execution_count": 0,
      "outputs": []
    },
    {
      "cell_type": "code",
      "metadata": {
        "id": "N-pm1Dh3TvJJ",
        "colab_type": "code",
        "colab": {}
      },
      "source": [
        "int(3.3)"
      ],
      "execution_count": 0,
      "outputs": []
    },
    {
      "cell_type": "code",
      "metadata": {
        "id": "O4J4KxG_Tynp",
        "colab_type": "code",
        "colab": {}
      },
      "source": [
        "complex(3)"
      ],
      "execution_count": 0,
      "outputs": []
    },
    {
      "cell_type": "code",
      "metadata": {
        "id": "iCUqx0IjT1jz",
        "colab_type": "code",
        "colab": {}
      },
      "source": [
        "z='hello'\n",
        "type(z)"
      ],
      "execution_count": 0,
      "outputs": []
    },
    {
      "cell_type": "code",
      "metadata": {
        "id": "P3sF4thpT5n3",
        "colab_type": "code",
        "colab": {}
      },
      "source": [
        "int(3.3)"
      ],
      "execution_count": 0,
      "outputs": []
    },
    {
      "cell_type": "code",
      "metadata": {
        "id": "a7IJkPheT8Wc",
        "colab_type": "code",
        "colab": {}
      },
      "source": [
        "complex(3)"
      ],
      "execution_count": 0,
      "outputs": []
    },
    {
      "cell_type": "code",
      "metadata": {
        "id": "81wMiLNxT-2g",
        "colab_type": "code",
        "colab": {}
      },
      "source": [
        "inport math"
      ],
      "execution_count": 0,
      "outputs": []
    },
    {
      "cell_type": "code",
      "metadata": {
        "id": "i--TVafwUAnh",
        "colab_type": "code",
        "colab": {}
      },
      "source": [
        "abs(-3.3)"
      ],
      "execution_count": 0,
      "outputs": []
    },
    {
      "cell_type": "code",
      "metadata": {
        "id": "Wr9tbctiUC42",
        "colab_type": "code",
        "colab": {}
      },
      "source": [
        "math.sin(60)"
      ],
      "execution_count": 0,
      "outputs": []
    },
    {
      "cell_type": "code",
      "metadata": {
        "id": "RKQxiipMUGPq",
        "colab_type": "code",
        "colab": {}
      },
      "source": [
        "math.sqrt(25)"
      ],
      "execution_count": 0,
      "outputs": []
    },
    {
      "cell_type": "markdown",
      "metadata": {
        "id": "8Ju-udYMULOe",
        "colab_type": "text"
      },
      "source": [
        "<a id='string'></a>\n",
        "## Strings"
      ]
    },
    {
      "cell_type": "code",
      "metadata": {
        "id": "k6IASDJeUO6Q",
        "colab_type": "code",
        "colab": {}
      },
      "source": [
        "my_str = 'Hello World'"
      ],
      "execution_count": 0,
      "outputs": []
    },
    {
      "cell_type": "code",
      "metadata": {
        "id": "TlRxGno1USn2",
        "colab_type": "code",
        "colab": {}
      },
      "source": [
        "len(my_str); print(len(my_str))"
      ],
      "execution_count": 0,
      "outputs": []
    },
    {
      "cell_type": "code",
      "metadata": {
        "id": "GsW6JA1RUVJE",
        "colab_type": "code",
        "colab": {}
      },
      "source": [
        "#indexing starting at 0\n",
        "print(my_str[0]); print(my_str[1]); print(my_str[10])"
      ],
      "execution_count": 0,
      "outputs": []
    },
    {
      "cell_type": "code",
      "metadata": {
        "id": "McdIQY9-UZCg",
        "colab_type": "code",
        "colab": {}
      },
      "source": [
        "#string slicing\n",
        "print(my_str[1:4]); print(my_str[:]); print(my_str[1:])"
      ],
      "execution_count": 0,
      "outputs": []
    },
    {
      "cell_type": "code",
      "metadata": {
        "id": "wfpmTLVbUcOx",
        "colab_type": "code",
        "colab": {}
      },
      "source": [
        "#string split\n",
        "s1, s2 = my_str.split(); print(s1); print(s2)"
      ],
      "execution_count": 0,
      "outputs": []
    },
    {
      "cell_type": "code",
      "metadata": {
        "id": "1WTyvZOjUfRb",
        "colab_type": "code",
        "colab": {}
      },
      "source": [
        "#multiple line spanning\n",
        "multilines= \"\"\"This is a multi-line\n",
        "block of sample\n",
        " text\"\"\"\n",
        "print(multilines)"
      ],
      "execution_count": 0,
      "outputs": []
    },
    {
      "cell_type": "code",
      "metadata": {
        "id": "GM6wfPBBUicB",
        "colab_type": "code",
        "colab": {}
      },
      "source": [
        "#string formatting\n",
        "text = \"%d pigs in the barn, I’ll %s and %s\" %(300,'huff','puff')\n",
        "print(text)"
      ],
      "execution_count": 0,
      "outputs": []
    },
    {
      "cell_type": "code",
      "metadata": {
        "id": "63HZZOL0Ulan",
        "colab_type": "code",
        "colab": {}
      },
      "source": [
        "total= \"my share = %.5f, tip = %d\" %(24.5, 5.5)\n",
        "print(total)"
      ],
      "execution_count": 0,
      "outputs": []
    },
    {
      "cell_type": "code",
      "metadata": {
        "id": "YAbZ_wC4UoOv",
        "colab_type": "code",
        "colab": {}
      },
      "source": [
        "#more string ops\n",
        "my_str=\"Hello World\"\n",
        "print(my_str.upper())\n",
        "print(my_str.isalpha())\n",
        "print(my_str[0].isalpha())\n",
        "a='12'\n",
        "print(a.isdigit())"
      ],
      "execution_count": 0,
      "outputs": []
    },
    {
      "cell_type": "markdown",
      "metadata": {
        "id": "FyBker-lUsmO",
        "colab_type": "text"
      },
      "source": [
        "<a id='list'></a>\n",
        "## Lists\n",
        "* Collection of data [ ]\n",
        "* Often used to store homogeneous values\n",
        "    * e.g., Numbers, names with the same data type\n",
        "* Members are accessed as strings\n",
        "* Mutable: modify in place without creating a new object\n"
      ]
    },
    {
      "cell_type": "code",
      "metadata": {
        "id": "vsIqJS3DUrFr",
        "colab_type": "code",
        "colab": {}
      },
      "source": [
        "my_list = [1,2,9,4]\n",
        "print(my_list)\n",
        "#how to find out the data type?"
      ],
      "execution_count": 0,
      "outputs": []
    },
    {
      "cell_type": "code",
      "metadata": {
        "id": "l1kupzJKVTXt",
        "colab_type": "code",
        "colab": {}
      },
      "source": [
        "my_list2 = list(range(-4,10, 4))\n",
        "print(my_list2)"
      ],
      "execution_count": 0,
      "outputs": []
    },
    {
      "cell_type": "code",
      "metadata": {
        "id": "Q27YLXcLeKGB",
        "colab_type": "code",
        "colab": {}
      },
      "source": [
        "# access list members by index \n",
        "# start at 0, end at n-1\n",
        "print(\"1st element =\", my_list[0])\n",
        "print(\"last element =\", my_list[3])"
      ],
      "execution_count": 0,
      "outputs": []
    },
    {
      "cell_type": "code",
      "metadata": {
        "id": "vZFpW80QeQEV",
        "colab_type": "code",
        "colab": {}
      },
      "source": [
        "#Contatenate lists\n",
        "print(my_list + my_list)\n",
        "print(my_list *2)\n",
        "print(my_list *3)"
      ],
      "execution_count": 0,
      "outputs": []
    },
    {
      "cell_type": "code",
      "metadata": {
        "id": "nuKbEd4veRaf",
        "colab_type": "code",
        "colab": {}
      },
      "source": [
        "# iterate list elements\n",
        "animals = ['dog','cat','horse']\n",
        "for name in animals:\n",
        "    print(name)"
      ],
      "execution_count": 0,
      "outputs": []
    },
    {
      "cell_type": "code",
      "metadata": {
        "id": "VHU-ggTVeVCQ",
        "colab_type": "code",
        "colab": {}
      },
      "source": [
        "for index, name in enumerate(animals):\n",
        "    print(index+1, name)"
      ],
      "execution_count": 0,
      "outputs": []
    },
    {
      "cell_type": "code",
      "metadata": {
        "id": "11ltKLxneYC-",
        "colab_type": "code",
        "colab": {}
      },
      "source": [
        "# modify list\n",
        "del my_list[0]; print(my_list)\n",
        "my_list.append(99); print(my_list)\n",
        "my_list.insert(1, 100); print(my_list)"
      ],
      "execution_count": 0,
      "outputs": []
    },
    {
      "cell_type": "code",
      "metadata": {
        "id": "QbTXOwyde5p0",
        "colab_type": "code",
        "colab": {}
      },
      "source": [
        "#some list fun\n",
        "\n",
        "my_list.sort(); print(my_list)\n",
        "my_list.reverse(); print(my_list)"
      ],
      "execution_count": 0,
      "outputs": []
    },
    {
      "cell_type": "code",
      "metadata": {
        "id": "k2zHjve-e-Iq",
        "colab_type": "code",
        "colab": {}
      },
      "source": [
        "#more sorting\n",
        "my_list = ['cats', 'SHEEP','DOGS','horses']\n",
        "print(sorted(my_list, key=len))\n",
        "print(sorted(my_list))\n",
        "print(sorted(my_list, reverse=True))"
      ],
      "execution_count": 0,
      "outputs": []
    },
    {
      "cell_type": "code",
      "metadata": {
        "id": "QqNbIEivfC-T",
        "colab_type": "code",
        "colab": {}
      },
      "source": [
        "sorted(my_list, key=len)"
      ],
      "execution_count": 0,
      "outputs": []
    },
    {
      "cell_type": "code",
      "metadata": {
        "id": "3VsojwoZfEAv",
        "colab_type": "code",
        "colab": {}
      },
      "source": [
        "# sort by lowercase\n",
        "sorted(my_list, key=str.lower)"
      ],
      "execution_count": 0,
      "outputs": []
    },
    {
      "cell_type": "code",
      "metadata": {
        "id": "Kvj0TaGxfImT",
        "colab_type": "code",
        "colab": {}
      },
      "source": [
        "#list comprehension [expr for var in list]\n",
        "my_list=[2,5,9,1]\n",
        "square = [x**2 for x in my_list]; print(\"square =\", square)\n",
        "large = [n for n in my_list if n >= 5]; print('large =',large)"
      ],
      "execution_count": 0,
      "outputs": []
    },
    {
      "cell_type": "markdown",
      "metadata": {
        "id": "fslWDYvTgv6Y",
        "colab_type": "text"
      },
      "source": [
        "<a id='tuple'></a>\n",
        "## Tuples\n",
        "* Not immutable\n",
        "* Why Tuple?\n",
        "* Processed faster than lists\n",
        "* Sequence of a Tuple is protected\n",
        "* Sequence unpacking"
      ]
    },
    {
      "cell_type": "code",
      "metadata": {
        "id": "qOVLqFGLgqc5",
        "colab_type": "code",
        "colab": {}
      },
      "source": [
        "my_tup = (2, 8, 3, 1)\n",
        "print(my_tup)\n",
        "a,b,c,d = my_tup\n",
        "print(a, b, c, d)"
      ],
      "execution_count": 0,
      "outputs": []
    },
    {
      "cell_type": "code",
      "metadata": {
        "id": "VDKV676Gg19j",
        "colab_type": "code",
        "colab": {}
      },
      "source": [
        "print(my_tup[0])"
      ],
      "execution_count": 0,
      "outputs": []
    },
    {
      "cell_type": "markdown",
      "metadata": {
        "id": "l5IkMFTgg41M",
        "colab_type": "text"
      },
      "source": [
        "<a id='dic'></a>\n",
        "## Dictionaries\n",
        "* List of key-value pairs { }\n",
        "* Unordered collections of objects, not indexed\n",
        "* Store objects in a random order to provide faster lookup\n",
        "* Data type are heterogeneous, unlike list\n",
        "* Element are accessed by a keyword, not index\n",
        "* Elements are mutable \n",
        "* dict = {\"key1”: value1,  “key2”: value2} "
      ]
    },
    {
      "cell_type": "code",
      "metadata": {
        "id": "kQd98GzTg7hj",
        "colab_type": "code",
        "colab": {}
      },
      "source": [
        "my_dict['horse'] = 3; print(sorted(my_dict))"
      ],
      "execution_count": 0,
      "outputs": []
    },
    {
      "cell_type": "code",
      "metadata": {
        "id": "e82H9i7Rg_xv",
        "colab_type": "code",
        "colab": {}
      },
      "source": [
        "print(my_dict.keys()); print(my_dict.values())\n",
        "print(sorted(my_dict.values()))"
      ],
      "execution_count": 0,
      "outputs": []
    },
    {
      "cell_type": "code",
      "metadata": {
        "id": "cAN_qLCrhmS2",
        "colab_type": "code",
        "colab": {}
      },
      "source": [
        "for key, value in my_dict.items():\n",
        "    print(key, value)"
      ],
      "execution_count": 0,
      "outputs": []
    },
    {
      "cell_type": "markdown",
      "metadata": {
        "id": "uS4hLfaAhnvc",
        "colab_type": "text"
      },
      "source": [
        "<a id='file'></a>\n",
        "## Files\n",
        "* file open, close, read, write\n",
        "* file_handle = open(“file_name”, ‘mode’)\n",
        "    * Modes: \n",
        "    * a: append\n",
        "    * r: read only (error if not existing)\n",
        "    * w: write only\n",
        "    * r+: read/write (error if not existing)\n",
        "    * w+: read/write\n",
        "    * b: binary\n",
        "* Python has a built-in garbage collector\n",
        "* Object memory space is auto reclaimed once a file is no longer in use "
      ]
    },
    {
      "cell_type": "code",
      "metadata": {
        "id": "jEY1zbx2hxED",
        "colab_type": "code",
        "colab": {}
      },
      "source": [
        "! if [ ! -f \"data.txt\" ]; then wget 'https://raw.githubusercontent.com/lsuhpchelp/lbrnloniworkshop2018/master/day2_python/data.txt'; else echo 'file exists'; fi;"
      ],
      "execution_count": 0,
      "outputs": []
    },
    {
      "cell_type": "code",
      "metadata": {
        "id": "iMX22vN9h0kW",
        "colab_type": "code",
        "colab": {}
      },
      "source": [
        "input = open('data.txt', 'r')\n",
        "content = input.read()\n",
        "input.close()\n",
        "print(content)"
      ],
      "execution_count": 0,
      "outputs": []
    },
    {
      "cell_type": "code",
      "metadata": {
        "id": "iyCZyB6-h5VM",
        "colab_type": "code",
        "colab": {}
      },
      "source": [
        "#write to a file\n",
        "output = open('write.txt','w')\n",
        "output.write(\"Writing to a file\")\n",
        "output.close()\n",
        "!ls -l\n"
      ],
      "execution_count": 0,
      "outputs": []
    },
    {
      "cell_type": "markdown",
      "metadata": {
        "id": "EJL6Nl6gedsy",
        "colab_type": "text"
      },
      "source": [
        "<a id='control'></a>\n",
        "## Control Structures \n",
        "<font color=blue>\n",
        "* if-else\n",
        "* for loops, while loops\n",
        "* break: jump out of the current loop\n",
        "* continue: jump to the top of next cycle within the loop\n",
        "* pass: do nothing \n",
        "</font> \n",
        "[top](#top)"
      ]
    },
    {
      "cell_type": "markdown",
      "metadata": {
        "id": "PwHbqzj9kAz_",
        "colab_type": "text"
      },
      "source": [
        "<div class='alert alert-block alert-danger'>  Tip: <div>\n",
        "  Indentation: signifies code blocks  <div>"
      ]
    },
    {
      "cell_type": "code",
      "metadata": {
        "id": "eJG7NpzUelYa",
        "colab_type": "code",
        "colab": {}
      },
      "source": [
        "x = 500 #input(\"Please enter a number\")\n",
        "if ( x >= 5 ):\n",
        "  print(x,\"> 5\")\n",
        "  print(\"Hi, greater than 5\")\n",
        "else:\n",
        "    print(x, \"< 5\")"
      ],
      "execution_count": 0,
      "outputs": []
    },
    {
      "cell_type": "code",
      "metadata": {
        "id": "_w2rpy_Xep3U",
        "colab_type": "code",
        "colab": {}
      },
      "source": [
        "\n",
        "for num in range(3):\n",
        "    print(num)"
      ],
      "execution_count": 0,
      "outputs": []
    },
    {
      "cell_type": "code",
      "metadata": {
        "id": "NO_vxe4yetxk",
        "colab_type": "code",
        "colab": {}
      },
      "source": [
        "index=0\n",
        "while (index < 3):\n",
        "    print(index)\n",
        "    index = index + 2"
      ],
      "execution_count": 0,
      "outputs": []
    },
    {
      "cell_type": "code",
      "metadata": {
        "id": "1lffKgMMew0D",
        "colab_type": "code",
        "colab": {}
      },
      "source": [
        "#prime numbers\n",
        "n = 2\n",
        "while n < 10:\n",
        "    prime = True\n",
        "    for x in range(2,n):\n",
        "        if n % x == 0:\n",
        "            prime = False\n",
        "            break\n",
        "        if prime:\n",
        "            print(n, 'is a prime #')\n",
        "            pass\n",
        "        else:\n",
        "            n= n + 1\n",
        "            continu\n",
        "    n = n + 1"
      ],
      "execution_count": 0,
      "outputs": []
    },
    {
      "cell_type": "markdown",
      "metadata": {
        "id": "HunJlfeflS7P",
        "colab_type": "text"
      },
      "source": [
        "<a id='module'> </a>\n",
        "## Functions\n",
        "def func_name(par1, par2,...): \n",
        "> body of code\n",
        " \n",
        " [top](#top)    "
      ]
    },
    {
      "cell_type": "markdown",
      "metadata": {
        "id": "5Cv60Bi4lY1h",
        "colab_type": "text"
      },
      "source": [
        "## Python Modules\n",
        "* math, sys, os..\n",
        "* NumPy, high performance in vector & matrix using vector computation \n",
        "* SciPy: based on Numpy, including many scientific algorithms.\n",
        "* padas\n",
        "* matplotlib, pyplot, pylab\n",
        "\n",
        "Reference to [Python3.x standard libraries](https://docs.python.org/3/library/) "
      ]
    },
    {
      "cell_type": "code",
      "metadata": {
        "id": "p1DRpmMblN_N",
        "colab_type": "code",
        "colab": {}
      },
      "source": [
        "#import a module\n",
        "import math\n",
        "math.sin(math.pi)"
      ],
      "execution_count": 0,
      "outputs": []
    },
    {
      "cell_type": "code",
      "metadata": {
        "id": "2_97a-FblkSP",
        "colab_type": "code",
        "colab": {}
      },
      "source": [
        "#get information of a module\n",
        "dir(math)"
      ],
      "execution_count": 0,
      "outputs": []
    },
    {
      "cell_type": "code",
      "metadata": {
        "id": "GaCGKbg5lvpj",
        "colab_type": "code",
        "colab": {}
      },
      "source": [
        "#get information\n",
        "help(math)"
      ],
      "execution_count": 0,
      "outputs": []
    },
    {
      "cell_type": "code",
      "metadata": {
        "id": "XcxDN7yWl5dw",
        "colab_type": "code",
        "colab": {}
      },
      "source": [
        "# get information of a module function \n",
        "help(range)"
      ],
      "execution_count": 0,
      "outputs": []
    },
    {
      "cell_type": "markdown",
      "metadata": {
        "id": "I8O4GT2al6os",
        "colab_type": "text"
      },
      "source": [
        " * Examples using os, commands modules\n",
        " * os: includes many functions interacting with the file system "
      ]
    },
    {
      "cell_type": "code",
      "metadata": {
        "id": "ORryxOStpJdb",
        "colab_type": "code",
        "colab": {}
      },
      "source": [
        "import os\n",
        "print(os.name)"
      ],
      "execution_count": 0,
      "outputs": []
    },
    {
      "cell_type": "code",
      "metadata": {
        "id": "p5NQEU3opV9f",
        "colab_type": "code",
        "colab": {}
      },
      "source": [
        "print(os.getcwd())"
      ],
      "execution_count": 0,
      "outputs": []
    },
    {
      "cell_type": "code",
      "metadata": {
        "id": "xr5qKyBbl-Vi",
        "colab_type": "code",
        "colab": {
          "base_uri": "https://localhost:8080/",
          "height": 34
        },
        "outputId": "d5e43a57-a2c8-4bcb-e159-31dc0135d9a3"
      },
      "source": [
        "try: \n",
        "    # If the file does not exist, \n",
        "    # then it would throw an IOError \n",
        "    filename = 'data.txt'\n",
        "    f = open(filename, 'r') \n",
        "    text = f.read() \n",
        "    f.close() \n",
        "  \n",
        "# Control jumps directly to here if  \n",
        "#any of the above lines throws IOError.     \n",
        "except IOError: \n",
        "  \n",
        "    # print(os.error) will <class 'OSError'> \n",
        "    print('Problem reading: ' + filename) \n",
        "      \n",
        "# In any case, the code then continues with  \n",
        "# the line after the try/except "
      ],
      "execution_count": 4,
      "outputs": [
        {
          "output_type": "stream",
          "text": [
            "Problem reading: data.txt\n"
          ],
          "name": "stdout"
        }
      ]
    },
    {
      "cell_type": "code",
      "metadata": {
        "id": "jzI478HEn9D-",
        "colab_type": "code",
        "colab": {}
      },
      "source": [
        ""
      ],
      "execution_count": 0,
      "outputs": []
    }
  ]
}